{
 "cells": [
  {
   "cell_type": "code",
   "execution_count": 3,
   "metadata": {
    "collapsed": true
   },
   "outputs": [],
   "source": [
    "import os\n",
    "import pandas as pd\n",
    "import numpy as np\n",
    "import glob\n"
   ]
  },
  {
   "cell_type": "code",
   "execution_count": 5,
   "metadata": {},
   "outputs": [],
   "source": [
    "folder = 'results'\n",
    "files = glob.glob(folder + \"/*.csv\")"
   ]
  },
  {
   "cell_type": "code",
   "execution_count": 6,
   "metadata": {
    "collapsed": true
   },
   "outputs": [],
   "source": [
    "compas_dfs = {}\n",
    "for file in files:\n",
    "    try:\n",
    "        compas_dfs[file] = pd.read_csv(file)\n",
    "\n",
    "    except IOError as err:\n",
    "        print(\"IOError: {}\".format(err))\n",
    "        print(\"To use this class, please download the following file:\")\n",
    "        print(\"\\n\\thttps://raw.githubusercontent.com/propublica/compas-analysis/master/compas-scores-two-years.csv\")\n",
    "        print(\"\\nand place it, as-is, in the folder:\")\n",
    "        print(\"\\n\\t{}\\n\".format(os.path.abspath(os.path.join(\n",
    "           os.path.abspath(__file__), '..', '..', 'data', 'raw', 'compas'))))\n",
    "        import sys\n",
    "        sys.exit(1)"
   ]
  },
  {
   "cell_type": "code",
   "execution_count": 11,
   "metadata": {
    "collapsed": true
   },
   "outputs": [],
   "source": [
    "# load COMPAS df\n",
    "filepath = 'data/compas-scores-two-years.csv'\n",
    "\n",
    "try:\n",
    "    compas_df = pd.read_csv(filepath, index_col='id')\n",
    "\n",
    "except IOError as err:\n",
    "    print(\"IOError: {}\".format(err))\n",
    "    print(\"To use this class, please download the following file:\")\n",
    "    print(\"\\n\\thttps://raw.githubusercontent.com/propublica/compas-analysis/master/compas-scores-two-years.csv\")\n",
    "    print(\"\\nand place it, as-is, in the folder:\")\n",
    "    print(\"\\n\\t{}\\n\".format(os.path.abspath(os.path.join(\n",
    "       os.path.abspath(__file__), '..', '..', 'data', 'raw', 'compas'))))\n",
    "    import sys\n",
    "    sys.exit(1)\n"
   ]
  },
  {
   "cell_type": "code",
   "execution_count": 13,
   "metadata": {},
   "outputs": [],
   "source": [
    "for file in compas_dfs:\n",
    "    # add decile score as a column\n",
    "    df = compas_dfs[file]\n",
    "    df['decile_score'] = compas_df['decile_score']\n",
    "    df.to_csv(file)"
   ]
  },
  {
   "cell_type": "code",
   "execution_count": null,
   "metadata": {
    "collapsed": true
   },
   "outputs": [],
   "source": []
  }
 ],
 "metadata": {
  "kernelspec": {
   "display_name": "Python 3",
   "language": "python",
   "name": "python3"
  },
  "language_info": {
   "codemirror_mode": {
    "name": "ipython",
    "version": 3
   },
   "file_extension": ".py",
   "mimetype": "text/x-python",
   "name": "python",
   "nbconvert_exporter": "python",
   "pygments_lexer": "ipython3",
   "version": "3.6.2"
  }
 },
 "nbformat": 4,
 "nbformat_minor": 2
}
