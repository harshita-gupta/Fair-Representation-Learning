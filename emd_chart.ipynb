{
 "cells": [
  {
   "cell_type": "code",
   "execution_count": 23,
   "metadata": {
    "collapsed": true
   },
   "outputs": [],
   "source": [
    "import pandas as pd\n",
    "import numpy as np\n",
    "import matplotlib.pyplot as plt\n",
    "%matplotlib inline"
   ]
  },
  {
   "cell_type": "code",
   "execution_count": 12,
   "metadata": {
    "collapsed": true
   },
   "outputs": [],
   "source": [
    "compas = pd.read_csv('data/compas_clean.csv')\n",
    "compas_rep = pd.read_csv('results/representation_compas_NFR.csv', index_col=0)"
   ]
  },
  {
   "cell_type": "code",
   "execution_count": 78,
   "metadata": {
    "collapsed": true
   },
   "outputs": [],
   "source": [
    "bank = pd.read_csv('data/bank_final.csv')"
   ]
  },
  {
   "cell_type": "code",
   "execution_count": 79,
   "metadata": {
    "collapsed": false
   },
   "outputs": [
    {
     "data": {
      "text/plain": [
       "(41188, 57)"
      ]
     },
     "execution_count": 79,
     "metadata": {},
     "output_type": "execute_result"
    }
   ],
   "source": [
    "bank.shape"
   ]
  },
  {
   "cell_type": "code",
   "execution_count": 53,
   "metadata": {
    "collapsed": false
   },
   "outputs": [
    {
     "data": {
      "text/plain": [
       "{'AE': (0.107, 3.286),\n",
       " 'AE_P': (0.106, 1.947),\n",
       " 'NFR': (0.04, 0.188),\n",
       " 'Original': (0.069, 0.211),\n",
       " 'Original-P': (0.075, 0.235)}"
      ]
     },
     "execution_count": 53,
     "metadata": {},
     "output_type": "execute_result"
    }
   ],
   "source": [
    "compas_scores = [0.069, 0.075, 0.107, 0.106, 0.04]\n",
    "bank_scores = [0.211, 0.235, 3.286,  1.947, 0.188]\n",
    "\n",
    "metrics = {}\n",
    "models = ['Original', 'Original-P', 'AE', 'AE_P', 'NFR']\n",
    "for m in range(len(compas_scores)):\n",
    "    metrics[models[m]] = (compas_scores[m], bank_scores[m])\n",
    "    \n",
    "metrics"
   ]
  },
  {
   "cell_type": "code",
   "execution_count": 60,
   "metadata": {
    "collapsed": false
   },
   "outputs": [
    {
     "data": {
      "text/plain": [
       "<matplotlib.legend.Legend at 0x1190fc490>"
      ]
     },
     "execution_count": 60,
     "metadata": {},
     "output_type": "execute_result"
    },
    {
     "data": {
      "image/png": "[encoded data removed]",
      "text/plain": [
       "<matplotlib.figure.Figure at 0x11aee8350>"
      ]
     },
     "metadata": {},
     "output_type": "display_data"
    }
   ],
   "source": [
    "# data to plot\n",
    "n_groups = 4\n",
    "\n",
    "# create plot\n",
    "fig, ax = plt.subplots()\n",
    "index = np.arange(1)\n",
    "bar_width = 0.1\n",
    "space = 0.025\n",
    "opacity = 0.8\n",
    "\n",
    "colors = ['#F7EDF0', '#F4CBC6', '#DCEAB2', '#C7D66D', '#75B9BE']\n",
    "\n",
    "for i in range(5):\n",
    "    plt.bar(index + i*(bar_width) + (i + 2) *space, metrics[models[i]][0], bar_width,\n",
    "            alpha=opacity,\n",
    "            color=colors[i],\n",
    "            label=models[i])\n",
    "    \n",
    "\n",
    "# plt.bar(index + 2 *bar_width, means_bob, bar_width,\n",
    "# alpha=opacity,\n",
    "# color='y',\n",
    "# label='Bob')\n",
    "\n",
    "plt.xlabel('Dataset')\n",
    "plt.ylabel('Scores')\n",
    "plt.title('Scores by person')\n",
    "plt.xticks(index + 3* bar_width, ('COMPAS', 'Bank'))\n",
    "plt.legend(prop={'size': 8})"
   ]
  },
  {
   "cell_type": "code",
   "execution_count": 80,
   "metadata": {
    "collapsed": false
   },
   "outputs": [
    {
     "data": {
      "image/png": "[encoded data removed]",
      "text/plain": [
       "<matplotlib.figure.Figure at 0x11cb7bc90>"
      ]
     },
     "metadata": {},
     "output_type": "display_data"
    }
   ],
   "source": [
    "y_pos = np.arange(len(models))\n",
    "\n",
    "plt.bar(y_pos + (i + 2) *space, compas_scores, color=colors)\n",
    "plt.xticks(y_pos + i*(bar_width + space), models)\n",
    "plt.ylabel('Scores')\n",
    "plt.title('EMD for COMPAS data')\n",
    "# plt.show()\n",
    "\n",
    "plt.savefig('compas_emd.png')"
   ]
  },
  {
   "cell_type": "code",
   "execution_count": null,
   "metadata": {
    "collapsed": true
   },
   "outputs": [],
   "source": []
  },
  {
   "cell_type": "code",
   "execution_count": 81,
   "metadata": {
    "collapsed": false
   },
   "outputs": [
    {
     "data": {
      "image/png": "[encoded data removed]",
      "text/plain": [
       "<matplotlib.figure.Figure at 0x11a2b7b90>"
      ]
     },
     "metadata": {},
     "output_type": "display_data"
    }
   ],
   "source": [
    "plt.bar(y_pos + (i + 2) *space, bank_scores, color=colors)\n",
    "plt.xticks(y_pos + i*(bar_width + space), models)\n",
    "plt.ylabel('Scores')\n",
    "plt.title('EMD for Bank data')\n",
    "plt.savefig('bank_emd.png')"
   ]
  }
 ],
 "metadata": {
  "kernelspec": {
   "display_name": "Python 2",
   "language": "python",
   "name": "python2"
  },
  "language_info": {
   "codemirror_mode": {
    "name": "ipython",
    "version": 2
   },
   "file_extension": ".py",
   "mimetype": "text/x-python",
   "name": "python",
   "nbconvert_exporter": "python",
   "pygments_lexer": "ipython2",
   "version": "2.7.10"
  }
 },
 "nbformat": 4,
 "nbformat_minor": 0
}
